{
 "cells": [
  {
   "cell_type": "code",
   "execution_count": 1,
   "metadata": {},
   "outputs": [],
   "source": [
    "import ee\n",
    "from eepackages import assets\n",
    "from IPython.display import Image"
   ]
  },
  {
   "cell_type": "code",
   "execution_count": 2,
   "metadata": {},
   "outputs": [],
   "source": [
    "ee.Initialize()"
   ]
  },
  {
   "cell_type": "code",
   "execution_count": 3,
   "metadata": {},
   "outputs": [],
   "source": [
    "bounds =  ee.Geometry.Polygon(\n",
    "        [[[-39.20961463729369, -5.266625790689956],\n",
    "          [-39.20961463729369, -5.450526132170581],\n",
    "          [-38.90474403182494, -5.450526132170581],\n",
    "          [-38.90474403182494, -5.266625790689956]]], None, False)"
   ]
  },
  {
   "cell_type": "code",
   "execution_count": 4,
   "metadata": {},
   "outputs": [],
   "source": [
    "images = (assets.getImages(bounds, {\n",
    "  'missions': ['L8'],\n",
    "  'cloudMask': True,\n",
    "  'filter': ee.Filter.date('2020-01-01', '2022-01-01')\n",
    "}))\n",
    "\n",
    "image = images.first()"
   ]
  },
  {
   "cell_type": "code",
   "execution_count": 6,
   "metadata": {},
   "outputs": [],
   "source": [
    "rgb = image.visualize().blend(image.select('cloud').selfMask().visualize(**{'palette': ['ffff00']}))\n",
    "\n",
    "url = rgb.getThumbUrl({'dimensions': [800, 800]})\n",
    "Image(url=url, embed=True, format='png')"
   ]
  }
 ],
 "metadata": {
  "interpreter": {
   "hash": "01d30bbae3913ec8e7030c6a5e0e9ea4f7d540fbe620af3bde4b389e5cb4c8cf"
  },
  "kernelspec": {
   "display_name": "Python 3.7.6 ('work')",
   "language": "python",
   "name": "python3"
  },
  "language_info": {
   "codemirror_mode": {
    "name": "ipython",
    "version": 3
   },
   "file_extension": ".py",
   "mimetype": "text/x-python",
   "name": "python",
   "nbconvert_exporter": "python",
   "pygments_lexer": "ipython3",
   "version": "3.7.6"
  },
  "orig_nbformat": 4
 },
 "nbformat": 4,
 "nbformat_minor": 2
}
